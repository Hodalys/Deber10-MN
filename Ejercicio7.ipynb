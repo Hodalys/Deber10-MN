{
  "nbformat": 4,
  "nbformat_minor": 0,
  "metadata": {
    "colab": {
      "provenance": []
    },
    "kernelspec": {
      "name": "python3",
      "display_name": "Python 3"
    },
    "language_info": {
      "name": "python"
    }
  },
  "cells": [
    {
      "cell_type": "code",
      "source": [
        "import numpy as np"
      ],
      "metadata": {
        "id": "2Deg0Ydb3jum"
      },
      "execution_count": 11,
      "outputs": []
    },
    {
      "cell_type": "code",
      "source": [
        "# Factorización LU\n",
        "def lu_factorization(A):\n",
        "  n = A.shape[0]\n",
        "  L = np.identity(n)\n",
        "  U = np.copy(A)\n",
        "\n",
        "  for i in range(n):\n",
        "    for j in range(i + 1, n):\n",
        "      if U[i, i] == 0:\n",
        "        return None\n",
        "\n",
        "      factor = U[j, i] / U[i, i]\n",
        "      L[j, i] = factor\n",
        "      U[j, :] = U[j, :] - factor * U[i, :]\n",
        "\n",
        "  return L, U"
      ],
      "metadata": {
        "id": "iozEPdB2Ef8p"
      },
      "execution_count": 12,
      "outputs": []
    },
    {
      "cell_type": "code",
      "source": [
        "def solve_linear_system(A, b):\n",
        "  L, U = lu_factorization(A) # Llamada a la función LU\n",
        "  if L is None or U is None:\n",
        "    return None\n",
        "\n",
        "  n = len(b) # Dimensión del vector b\n",
        "  y = np.zeros(n) # Inicializa vector y\n",
        "  x = np.zeros(n) # Inicializa vector x\n",
        "\n",
        "  # Resolver Ly = b con sustitución hacia delante\n",
        "  for i in range(n):\n",
        "    y[i] = b[i]\n",
        "    for j in range(i):\n",
        "      y[i] -= L[i, j] * y[j]\n",
        "\n",
        "  # Resolver Ux = y con sustitución hacia atrás\n",
        "  for i in range(n - 1, -1, -1):\n",
        "    x[i] = y[i]\n",
        "    for j in range(i + 1, n):\n",
        "      x[i] -= U[i, j] * x[j]\n",
        "    x[i] /= U[i, i]\n",
        "\n",
        "  return x # Retorno de la solución"
      ],
      "metadata": {
        "id": "sVk7TEr9Epqh"
      },
      "execution_count": 13,
      "outputs": []
    },
    {
      "cell_type": "code",
      "source": [
        "# Ejercicio 7 literal a\n",
        "A = np.array([[2, -1, 1],\n",
        "              [3, 3, 9],\n",
        "              [3, 3, 5]])\n",
        "b = np.array([-1, 0, 4])\n",
        "\n",
        "x = solve_linear_system(A, b)\n",
        "\n",
        "if x is not None:\n",
        "  print(\"Solución del sistema lineal:\")\n",
        "  print(x)\n",
        "\n",
        "  L, U = lu_factorization(A)\n",
        "  print(\"\\nMatriz triangular inferior L:\")\n",
        "  print(L)\n",
        "  print(\"\\nMatriz triangular superior U:\")\n",
        "  print(U)\n",
        "else:\n",
        "  print(\"Falló la factorización LU (posible división por cero).\")\n"
      ],
      "metadata": {
        "colab": {
          "base_uri": "https://localhost:8080/"
        },
        "id": "OKZ-bnfQFbmZ",
        "outputId": "68fcb92c-f5db-4497-f9c3-fcc98b05a1c6"
      },
      "execution_count": 19,
      "outputs": [
        {
          "output_type": "stream",
          "name": "stdout",
          "text": [
            "Solución del sistema lineal:\n",
            "[ 1.0625  2.125  -1.    ]\n",
            "\n",
            "Matriz triangular inferior L:\n",
            "[[1.  0.  0. ]\n",
            " [1.5 1.  0. ]\n",
            " [1.5 1.  1. ]]\n",
            "\n",
            "Matriz triangular superior U:\n",
            "[[ 2 -1  1]\n",
            " [ 0  4  7]\n",
            " [ 0  0 -4]]\n"
          ]
        }
      ]
    },
    {
      "cell_type": "code",
      "source": [
        "# Ejercicio 7 literal b\n",
        "A = np.array([[1.012, -2.132, 3.104],\n",
        "              [-2.132, 4.096, -7.013],\n",
        "              [3.104, -7.013, 0.014]])\n",
        "b = np.array([1.984, -5.049, -3.895])\n",
        "\n",
        "x = solve_linear_system(A, b)\n",
        "\n",
        "if x is not None:\n",
        "  print(\"Solución del sistema lineal:\")\n",
        "  print(x)\n",
        "\n",
        "  L, U = lu_factorization(A)\n",
        "  print(\"\\nMatriz triangular inferior L:\")\n",
        "  print(L)\n",
        "  print(\"\\nMatriz triangular superior U:\")\n",
        "  print(U)\n",
        "else:\n",
        "  print(\"Falló la factorización LU (posible división por cero).\")"
      ],
      "metadata": {
        "colab": {
          "base_uri": "https://localhost:8080/"
        },
        "id": "MchLMtIqGNnY",
        "outputId": "0e4966d8-dbe4-4939-c203-bcb44b58eaa6"
      },
      "execution_count": 15,
      "outputs": [
        {
          "output_type": "stream",
          "name": "stdout",
          "text": [
            "Solución del sistema lineal:\n",
            "[1. 1. 1.]\n",
            "\n",
            "Matriz triangular inferior L:\n",
            "[[ 1.          0.          0.        ]\n",
            " [-2.10671937  1.          0.        ]\n",
            " [ 3.06719368  1.19775553  1.        ]]\n",
            "\n",
            "Matriz triangular superior U:\n",
            "[[ 1.012      -2.132       3.104     ]\n",
            " [ 0.         -0.39552569 -0.47374308]\n",
            " [ 0.          0.         -8.93914077]]\n"
          ]
        }
      ]
    },
    {
      "cell_type": "code",
      "source": [
        "# Ejercicio 7 literal c\n",
        "A = np.array([[2, 0, 0, 0],\n",
        "              [1, 1.5, 0, 0],\n",
        "              [0, -3, 0.5, 0],\n",
        "              [2, -2, 1, 1]])\n",
        "b = np.array([3, 4.5, -6.6, 0.8])\n",
        "\n",
        "x = solve_linear_system(A, b)\n",
        "\n",
        "if x is not None:\n",
        "  print(\"Solución del sistema lineal:\")\n",
        "  print(x)\n",
        "\n",
        "  L, U = lu_factorization(A)\n",
        "  print(\"\\nMatriz triangular inferior L:\")\n",
        "  print(L)\n",
        "  print(\"\\nMatriz triangular superior U:\")\n",
        "  print(U)\n",
        "else:\n",
        "  print(\"Falló la factorización LU (posible división por cero).\")"
      ],
      "metadata": {
        "colab": {
          "base_uri": "https://localhost:8080/"
        },
        "id": "fK5fmURVGuVS",
        "outputId": "b84b78f1-50d4-4bc6-8175-838bef11be56"
      },
      "execution_count": 17,
      "outputs": [
        {
          "output_type": "stream",
          "name": "stdout",
          "text": [
            "Solución del sistema lineal:\n",
            "[ 1.5  2.  -1.2  3. ]\n",
            "\n",
            "Matriz triangular inferior L:\n",
            "[[ 1.          0.          0.          0.        ]\n",
            " [ 0.5         1.          0.          0.        ]\n",
            " [ 0.         -2.          1.          0.        ]\n",
            " [ 1.         -1.33333333  2.          1.        ]]\n",
            "\n",
            "Matriz triangular superior U:\n",
            "[[2.  0.  0.  0. ]\n",
            " [0.  1.5 0.  0. ]\n",
            " [0.  0.  0.5 0. ]\n",
            " [0.  0.  0.  1. ]]\n"
          ]
        }
      ]
    },
    {
      "cell_type": "code",
      "source": [
        "# Ejercicio 7 literal d\n",
        "A = np.array([[2.1756, 4.0231, -2.1732, 5.1967],\n",
        "              [-4.0231, 6.0000, 0, 1.1973],\n",
        "              [-1.0000, -5.2107, 1.1111, 0],\n",
        "              [6.0235, 7.0000, 0, -4.1561]])\n",
        "b = np.array([17.102, -6.1593, 3.0004, 0.0000])\n",
        "\n",
        "x = solve_linear_system(A, b)\n",
        "\n",
        "if x is not None:\n",
        "  print(\"Solución del sistema lineal:\")\n",
        "  print(x)\n",
        "\n",
        "  L, U = lu_factorization(A)\n",
        "  print(\"\\nMatriz triangular inferior L:\")\n",
        "  print(L)\n",
        "  print(\"\\nMatriz triangular superior U:\")\n",
        "  print(U)\n",
        "else:\n",
        "  print(\"Falló la factorización LU (posible división por cero).\")"
      ],
      "metadata": {
        "colab": {
          "base_uri": "https://localhost:8080/"
        },
        "id": "5UBvX6h-Hbox",
        "outputId": "561977fc-80f5-46ba-ebd4-4e1cf634dcd4"
      },
      "execution_count": 18,
      "outputs": [
        {
          "output_type": "stream",
          "name": "stdout",
          "text": [
            "Solución del sistema lineal:\n",
            "[2.9398512  0.0706777  5.67773512 4.37981223]\n",
            "\n",
            "Matriz triangular inferior L:\n",
            "[[ 1.          0.          0.          0.        ]\n",
            " [-1.84919103  1.          0.          0.        ]\n",
            " [-0.45964332 -0.25012194  1.          0.        ]\n",
            " [ 2.76866152 -0.30794361 -5.35228302  1.        ]]\n",
            "\n",
            "Matriz triangular superior U:\n",
            "[[ 2.17560000e+00  4.02310000e+00 -2.17320000e+00  5.19670000e+00]\n",
            " [ 0.00000000e+00  1.34394804e+01 -4.01866194e+00  1.08069910e+01]\n",
            " [ 0.00000000e+00  4.44089210e-16 -8.92952394e-01  5.09169403e+00]\n",
            " [ 0.00000000e+00  2.37689114e-15  0.00000000e+00  1.20361280e+01]]\n"
          ]
        }
      ]
    }
  ]
}