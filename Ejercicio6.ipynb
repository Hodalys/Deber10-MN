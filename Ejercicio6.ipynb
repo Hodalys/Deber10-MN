{
  "nbformat": 4,
  "nbformat_minor": 0,
  "metadata": {
    "colab": {
      "provenance": []
    },
    "kernelspec": {
      "name": "python3",
      "display_name": "Python 3"
    },
    "language_info": {
      "name": "python"
    }
  },
  "cells": [
    {
      "cell_type": "code",
      "execution_count": 1,
      "metadata": {
        "id": "PLMaaqb-ivTm"
      },
      "outputs": [],
      "source": [
        "import numpy as np\n",
        "\n",
        "def lu_factorization(A):\n",
        "\n",
        "  n = A.shape[0] # Obtiene el número de filas/columnas\n",
        "  L = np.identity(n) # Matriz identidad de tamaño nxn\n",
        "  U = np.copy(A) # Copia de la matriz original\n",
        "\n",
        "  for i in range(n):\n",
        "    for j in range(i + 1, n):\n",
        "      if U[i, i] == 0:\n",
        "        # Factorización falla si el elemento de la diagonal principal es cero\n",
        "          return None\n",
        "\n",
        "      factor = U[j, i] / U[i, i] # Factor de escalado\n",
        "      L[j, i] = factor\n",
        "      U[j, :] = U[j, :] - factor * U[i, :]\n",
        "\n",
        "  return L, U"
      ]
    },
    {
      "cell_type": "code",
      "source": [
        "# Ejercicio 6 literal a\n",
        "A = np.array([[2, -1, 1],\n",
        "              [3, 3, 9],\n",
        "              [3, 3, 5]])\n",
        "\n",
        "L, U = lu_factorization(A)\n",
        "\n",
        "if L is not None and U is not None:\n",
        "  print(\"Matriz A:\")\n",
        "  print(A)\n",
        "  print(\"\\nMatriz triangular inferior L:\")\n",
        "  print(L)\n",
        "  print(\"\\nMatriz triangular superior U:\")\n",
        "  print(U)\n",
        "  print(\"\\nLU (Verificación):\")\n",
        "  print(np.dot(L,U))\n",
        "else:\n",
        "  print(\"Falló factorización LU (division by zero).\")"
      ],
      "metadata": {
        "colab": {
          "base_uri": "https://localhost:8080/"
        },
        "id": "2hZleZMpvqTS",
        "outputId": "c9816ab4-dfcc-49d0-d28a-30a3f8d0f51a"
      },
      "execution_count": 2,
      "outputs": [
        {
          "output_type": "stream",
          "name": "stdout",
          "text": [
            "Matriz A:\n",
            "[[ 2 -1  1]\n",
            " [ 3  3  9]\n",
            " [ 3  3  5]]\n",
            "\n",
            "Matriz triangular inferior L:\n",
            "[[1.  0.  0. ]\n",
            " [1.5 1.  0. ]\n",
            " [1.5 1.  1. ]]\n",
            "\n",
            "Matriz triangular superior U:\n",
            "[[ 2 -1  1]\n",
            " [ 0  4  7]\n",
            " [ 0  0 -4]]\n",
            "\n",
            "LU (Verificación):\n",
            "[[ 2.  -1.   1. ]\n",
            " [ 3.   2.5  8.5]\n",
            " [ 3.   2.5  4.5]]\n"
          ]
        }
      ]
    },
    {
      "cell_type": "code",
      "source": [
        "# Ejercicio 6 literal b\n",
        "B = np.array([[1.012, -2.132, 3.104],\n",
        "              [-2.132, 4.096, -7.013],\n",
        "              [3.104, -7.013, 0.014]])\n",
        "\n",
        "L, U = lu_factorization(B)\n",
        "\n",
        "if L is not None and U is not None:\n",
        "  print(\"Matriz B:\")\n",
        "  print(B)\n",
        "  print(\"\\nMatriz triangular inferior L:\")\n",
        "  print(L)\n",
        "  print(\"\\nMatriz triangular superior U:\")\n",
        "  print(U)\n",
        "  print(\"\\nLU (Verificación):\")\n",
        "  print(np.dot(L,U))\n",
        "else:\n",
        "  print(\"Falló factorización LU (division by zero).\")"
      ],
      "metadata": {
        "colab": {
          "base_uri": "https://localhost:8080/"
        },
        "id": "dAi0d5kIvw7S",
        "outputId": "13c927b7-6880-4330-f5d5-74c08f859787"
      },
      "execution_count": 3,
      "outputs": [
        {
          "output_type": "stream",
          "name": "stdout",
          "text": [
            "Matriz B:\n",
            "[[ 1.012 -2.132  3.104]\n",
            " [-2.132  4.096 -7.013]\n",
            " [ 3.104 -7.013  0.014]]\n",
            "\n",
            "Matriz triangular inferior L:\n",
            "[[ 1.          0.          0.        ]\n",
            " [-2.10671937  1.          0.        ]\n",
            " [ 3.06719368  1.19775553  1.        ]]\n",
            "\n",
            "Matriz triangular superior U:\n",
            "[[ 1.012      -2.132       3.104     ]\n",
            " [ 0.         -0.39552569 -0.47374308]\n",
            " [ 0.          0.         -8.93914077]]\n",
            "\n",
            "LU (Verificación):\n",
            "[[ 1.012 -2.132  3.104]\n",
            " [-2.132  4.096 -7.013]\n",
            " [ 3.104 -7.013  0.014]]\n"
          ]
        }
      ]
    },
    {
      "cell_type": "code",
      "source": [
        "# Ejercicio 6 literal c\n",
        "C = np.array([[2, 0, 0, 0],\n",
        "              [1, 1.5, 0, 0],\n",
        "              [0, -3, 0.5, 0],\n",
        "              [2, -2, 1, 1]])\n",
        "\n",
        "L, U = lu_factorization(C)\n",
        "\n",
        "if L is not None and U is not None:\n",
        "  print(\"Matriz C:\")\n",
        "  print(C)\n",
        "  print(\"\\nMatriz triangular inferior L:\")\n",
        "  print(L)\n",
        "  print(\"\\nMatriz triangular superior U:\")\n",
        "  print(U)\n",
        "  print(\"\\nLU (Verificación):\")\n",
        "  print(np.dot(L,U))\n",
        "else:\n",
        "  print(\"Falló factorización LU (division by zero).\")"
      ],
      "metadata": {
        "colab": {
          "base_uri": "https://localhost:8080/"
        },
        "id": "AN79-X14xq00",
        "outputId": "24e2e2bb-2ca7-4207-a59f-e9edb0de6c3e"
      },
      "execution_count": 4,
      "outputs": [
        {
          "output_type": "stream",
          "name": "stdout",
          "text": [
            "Matriz C:\n",
            "[[ 2.   0.   0.   0. ]\n",
            " [ 1.   1.5  0.   0. ]\n",
            " [ 0.  -3.   0.5  0. ]\n",
            " [ 2.  -2.   1.   1. ]]\n",
            "\n",
            "Matriz triangular inferior L:\n",
            "[[ 1.          0.          0.          0.        ]\n",
            " [ 0.5         1.          0.          0.        ]\n",
            " [ 0.         -2.          1.          0.        ]\n",
            " [ 1.         -1.33333333  2.          1.        ]]\n",
            "\n",
            "Matriz triangular superior U:\n",
            "[[2.  0.  0.  0. ]\n",
            " [0.  1.5 0.  0. ]\n",
            " [0.  0.  0.5 0. ]\n",
            " [0.  0.  0.  1. ]]\n",
            "\n",
            "LU (Verificación):\n",
            "[[ 2.   0.   0.   0. ]\n",
            " [ 1.   1.5  0.   0. ]\n",
            " [ 0.  -3.   0.5  0. ]\n",
            " [ 2.  -2.   1.   1. ]]\n"
          ]
        }
      ]
    },
    {
      "cell_type": "code",
      "source": [
        "# Ejercicio 6 literal d\n",
        "D = np.array([[2.1756, 4.0231, -2.1732, 5.1967],\n",
        "              [-4.0231, 6.0000, 0, 1.1973],\n",
        "              [-1.0000, -5.2107, 1.1111, 0],\n",
        "              [6.0235, 7.0000, 0, -4.1561]])\n",
        "\n",
        "L, U = lu_factorization(D)\n",
        "\n",
        "if L is not None and U is not None:\n",
        "  print(\"Matriz D:\")\n",
        "  print(D)\n",
        "  print(\"\\nMatriz triangular inferior L:\")\n",
        "  print(L)\n",
        "  print(\"\\nMatriz triangular superior U:\")\n",
        "  print(U)\n",
        "  print(\"\\nLU (Verificación):\")\n",
        "  print(np.dot(L,U))\n",
        "else:\n",
        "  print(\"Falló factorización LU (division by zero).\")"
      ],
      "metadata": {
        "colab": {
          "base_uri": "https://localhost:8080/"
        },
        "id": "se8zb3DLzV9Z",
        "outputId": "13d81847-af4c-421b-e8ca-554fc32fe83f"
      },
      "execution_count": 5,
      "outputs": [
        {
          "output_type": "stream",
          "name": "stdout",
          "text": [
            "Matriz D:\n",
            "[[ 2.1756  4.0231 -2.1732  5.1967]\n",
            " [-4.0231  6.      0.      1.1973]\n",
            " [-1.     -5.2107  1.1111  0.    ]\n",
            " [ 6.0235  7.      0.     -4.1561]]\n",
            "\n",
            "Matriz triangular inferior L:\n",
            "[[ 1.          0.          0.          0.        ]\n",
            " [-1.84919103  1.          0.          0.        ]\n",
            " [-0.45964332 -0.25012194  1.          0.        ]\n",
            " [ 2.76866152 -0.30794361 -5.35228302  1.        ]]\n",
            "\n",
            "Matriz triangular superior U:\n",
            "[[ 2.17560000e+00  4.02310000e+00 -2.17320000e+00  5.19670000e+00]\n",
            " [ 0.00000000e+00  1.34394804e+01 -4.01866194e+00  1.08069910e+01]\n",
            " [ 0.00000000e+00  4.44089210e-16 -8.92952394e-01  5.09169403e+00]\n",
            " [ 0.00000000e+00  2.37689114e-15  0.00000000e+00  1.20361280e+01]]\n",
            "\n",
            "LU (Verificación):\n",
            "[[ 2.17560000e+00  4.02310000e+00 -2.17320000e+00  5.19670000e+00]\n",
            " [-4.02310000e+00  6.00000000e+00  0.00000000e+00  1.19730000e+00]\n",
            " [-1.00000000e+00 -5.21070000e+00  1.11110000e+00  0.00000000e+00]\n",
            " [ 6.02350000e+00  7.00000000e+00 -3.69327004e-16 -4.15610000e+00]]\n"
          ]
        }
      ]
    }
  ]
}